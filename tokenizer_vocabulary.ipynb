{
  "nbformat": 4,
  "nbformat_minor": 0,
  "metadata": {
    "colab": {
      "name": "tokenizer_vocabulary.ipynb",
      "provenance": [],
      "authorship_tag": "ABX9TyPJAFaQjRshcW3RqUTsW9mU",
      "include_colab_link": true
    },
    "kernelspec": {
      "name": "python3",
      "display_name": "Python 3"
    }
  },
  "cells": [
    {
      "cell_type": "markdown",
      "metadata": {
        "id": "view-in-github",
        "colab_type": "text"
      },
      "source": [
        "<a href=\"https://colab.research.google.com/github/bhushanyadav07/NLP/blob/master/tokenizer_vocabulary.ipynb\" target=\"_parent\"><img src=\"https://colab.research.google.com/assets/colab-badge.svg\" alt=\"Open In Colab\"/></a>"
      ]
    },
    {
      "cell_type": "markdown",
      "metadata": {
        "id": "SjAC3oMOPQWu",
        "colab_type": "text"
      },
      "source": [
        "###Tokenizer Object\n",
        "\n"
      ]
    },
    {
      "cell_type": "code",
      "metadata": {
        "id": "QcpwPFGNGHIO",
        "colab_type": "code",
        "colab": {
          "base_uri": "https://localhost:8080/",
          "height": 50
        },
        "outputId": "6a1b9b3a-96d9-4635-84f5-f44550a83410"
      },
      "source": [
        "import tensorflow as tf\n",
        "tokenizer = tf.keras.preprocessing.text.Tokenizer()\n",
        "text_corpus = ['bob ate apples, and pears', 'fred ate apples!']\n",
        "tokenizer.fit_on_texts(text_corpus) #tokenizer automatically convert text corpus to integer ID's\n",
        "next_tasks = ['bob ate pears', 'fred ate pears']\n",
        "print(tokenizer.texts_to_sequences(next_tasks)) #texts_to_sequences convert the each vocabulary words in next_words to its corresponding interger ID\n",
        "print(tokenizer.word_index)"
      ],
      "execution_count": 13,
      "outputs": [
        {
          "output_type": "stream",
          "text": [
            "[[3, 1, 5], [6, 1, 5]]\n",
            "{'ate': 1, 'apples': 2, 'bob': 3, 'and': 4, 'pears': 5, 'fred': 6}\n"
          ],
          "name": "stdout"
        }
      ]
    },
    {
      "cell_type": "markdown",
      "metadata": {
        "id": "ea2Rwi2aPXki",
        "colab_type": "text"
      },
      "source": [
        "###Tokenizer Parameter's\n"
      ]
    },
    {
      "cell_type": "code",
      "metadata": {
        "id": "E9usydwJOF1F",
        "colab_type": "code",
        "colab": {
          "base_uri": "https://localhost:8080/",
          "height": 50
        },
        "outputId": "87d9bc97-1741-4e94-9079-2b8206f8a4f3"
      },
      "source": [
        " import tensorflow as tf\n",
        "tokenizer = tf.keras.preprocessing.text.Tokenizer(\n",
        "  oov_token='OOV') #the next text contains the words but not in the corpus those words are known as OOV(out of vocabulary)\n",
        "text_corpus = ['bob ate apples, and pears', 'fred ate apples!']\n",
        "tokenizer.fit_on_texts(text_corpus)\n",
        "print(tokenizer.texts_to_sequences(['bob ate bacon'])) #the texts_to_sequences automatically filter out the OOV words\n",
        "print(tokenizer.word_index)"
      ],
      "execution_count": 16,
      "outputs": [
        {
          "output_type": "stream",
          "text": [
            "[[4, 2, 1]]\n",
            "{'OOV': 1, 'ate': 2, 'apples': 3, 'bob': 4, 'and': 5, 'pears': 6, 'fred': 7}\n"
          ],
          "name": "stdout"
        }
      ]
    },
    {
      "cell_type": "code",
      "metadata": {
        "id": "_Nehcpx-Xe4X",
        "colab_type": "code",
        "colab": {
          "base_uri": "https://localhost:8080/",
          "height": 34
        },
        "outputId": "c73e6554-2f82-47f8-a01c-a2360290b0c4"
      },
      "source": [
        "import tensorflow as tf\n",
        "tokenizer = tf.keras.preprocessing.text.Tokenizer(num_words=2) #The num_words parameter lets us specify the maximum number of vocabulary words to use.\n",
        "text_corpus = ['bob ate apples, and pears', 'fred ate apples!'] #here we specified num_words = 2 which means the tokenizer will use 2 most frequent words in the vocabulary\n",
        "tokenizer.fit_on_texts(text_corpus)\n",
        "\n",
        "# the two most common words are 'ate' and 'apples'\n",
        "# the tokenizer will filter out all other words\n",
        "# for the sentence 'bob ate pears', only 'ate' will be kept\n",
        "# since 'ate' maps to an integer ID of 1, the only value \n",
        "# in the token sequence will be 1\n",
        "print(tokenizer.texts_to_sequences(['bob ate pears']))"
      ],
      "execution_count": 18,
      "outputs": [
        {
          "output_type": "stream",
          "text": [
            "[[1]]\n"
          ],
          "name": "stdout"
        }
      ]
    },
    {
      "cell_type": "markdown",
      "metadata": {
        "id": "N8R-yX79iLzp",
        "colab_type": "text"
      },
      "source": [
        "##Through the python programming skills"
      ]
    },
    {
      "cell_type": "code",
      "metadata": {
        "id": "ZP786SbGVfME",
        "colab_type": "code",
        "colab": {}
      },
      "source": [
        "import tensorflow as tf\n",
        "\n",
        "class EmbeddingModel(object):\n",
        "  #model Initilization\n",
        "  def __init__(self, vocab_size, embedding_dim):\n",
        "    self.vocab_size = vocab_size\n",
        "    self.embedding_dim = embedding_dim\n",
        "    self.tokenizer = tf.keras.preprocessing.texts.tokenizer(num_words = self.vocab_size)\n",
        "\n",
        "  def toeknize_text_corpus(self, texts):\n",
        "    self.tokenizer.fit_on_texts(texts)\n",
        "    sequences = self.tokenizer.texts_to_sequences(texts)\n",
        "    return sequences"
      ],
      "execution_count": 0,
      "outputs": []
    }
  ]
}